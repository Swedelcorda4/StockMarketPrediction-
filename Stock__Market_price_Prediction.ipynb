{
  "cells": [
    {
      "cell_type": "code",
      "execution_count": 1,
      "id": "d903c3a7",
      "metadata": {
        "id": "d903c3a7"
      },
      "outputs": [],
      "source": [
        "# importing packages\n",
        "\n",
        "import pandas as pd\n",
        "import numpy as np\n",
        "import matplotlib.pyplot as plt\n",
        "from sklearn.preprocessing import MinMaxScaler"
      ]
    },
    {
      "cell_type": "code",
      "execution_count": 2,
      "id": "cf6cb6f1",
      "metadata": {
        "id": "cf6cb6f1"
      },
      "outputs": [],
      "source": [
        "# Load Data\n",
        "\n",
        "df = pd.read_csv(\"stockmarket_prices.csv\")"
      ]
    },
    {
      "cell_type": "code",
      "execution_count": 3,
      "id": "d2f00686",
      "metadata": {
        "scrolled": true,
        "colab": {
          "base_uri": "https://localhost:8080/",
          "height": 206
        },
        "id": "d2f00686",
        "outputId": "37d93c35-3551-481f-d582-5c2836e3b8d2"
      },
      "outputs": [
        {
          "output_type": "execute_result",
          "data": {
            "text/plain": [
              "         Date     Open     High      Low    Close    Volume  OpenInt Stock\n",
              "0  1984-09-07  0.42388  0.42902  0.41874  0.42388  23220030        0  AAPL\n",
              "1  1984-09-10  0.42388  0.42516  0.41366  0.42134  18022532        0  AAPL\n",
              "2  1984-09-11  0.42516  0.43668  0.42516  0.42902  42498199        0  AAPL\n",
              "3  1984-09-12  0.42902  0.43157  0.41618  0.41618  37125801        0  AAPL\n",
              "4  1984-09-13  0.43927  0.44052  0.43927  0.43927  57822062        0  AAPL"
            ],
            "text/html": [
              "\n",
              "\n",
              "  <div id=\"df-7b34e45e-eb89-4bba-acf1-4a1d20762488\">\n",
              "    <div class=\"colab-df-container\">\n",
              "      <div>\n",
              "<style scoped>\n",
              "    .dataframe tbody tr th:only-of-type {\n",
              "        vertical-align: middle;\n",
              "    }\n",
              "\n",
              "    .dataframe tbody tr th {\n",
              "        vertical-align: top;\n",
              "    }\n",
              "\n",
              "    .dataframe thead th {\n",
              "        text-align: right;\n",
              "    }\n",
              "</style>\n",
              "<table border=\"1\" class=\"dataframe\">\n",
              "  <thead>\n",
              "    <tr style=\"text-align: right;\">\n",
              "      <th></th>\n",
              "      <th>Date</th>\n",
              "      <th>Open</th>\n",
              "      <th>High</th>\n",
              "      <th>Low</th>\n",
              "      <th>Close</th>\n",
              "      <th>Volume</th>\n",
              "      <th>OpenInt</th>\n",
              "      <th>Stock</th>\n",
              "    </tr>\n",
              "  </thead>\n",
              "  <tbody>\n",
              "    <tr>\n",
              "      <th>0</th>\n",
              "      <td>1984-09-07</td>\n",
              "      <td>0.42388</td>\n",
              "      <td>0.42902</td>\n",
              "      <td>0.41874</td>\n",
              "      <td>0.42388</td>\n",
              "      <td>23220030</td>\n",
              "      <td>0</td>\n",
              "      <td>AAPL</td>\n",
              "    </tr>\n",
              "    <tr>\n",
              "      <th>1</th>\n",
              "      <td>1984-09-10</td>\n",
              "      <td>0.42388</td>\n",
              "      <td>0.42516</td>\n",
              "      <td>0.41366</td>\n",
              "      <td>0.42134</td>\n",
              "      <td>18022532</td>\n",
              "      <td>0</td>\n",
              "      <td>AAPL</td>\n",
              "    </tr>\n",
              "    <tr>\n",
              "      <th>2</th>\n",
              "      <td>1984-09-11</td>\n",
              "      <td>0.42516</td>\n",
              "      <td>0.43668</td>\n",
              "      <td>0.42516</td>\n",
              "      <td>0.42902</td>\n",
              "      <td>42498199</td>\n",
              "      <td>0</td>\n",
              "      <td>AAPL</td>\n",
              "    </tr>\n",
              "    <tr>\n",
              "      <th>3</th>\n",
              "      <td>1984-09-12</td>\n",
              "      <td>0.42902</td>\n",
              "      <td>0.43157</td>\n",
              "      <td>0.41618</td>\n",
              "      <td>0.41618</td>\n",
              "      <td>37125801</td>\n",
              "      <td>0</td>\n",
              "      <td>AAPL</td>\n",
              "    </tr>\n",
              "    <tr>\n",
              "      <th>4</th>\n",
              "      <td>1984-09-13</td>\n",
              "      <td>0.43927</td>\n",
              "      <td>0.44052</td>\n",
              "      <td>0.43927</td>\n",
              "      <td>0.43927</td>\n",
              "      <td>57822062</td>\n",
              "      <td>0</td>\n",
              "      <td>AAPL</td>\n",
              "    </tr>\n",
              "  </tbody>\n",
              "</table>\n",
              "</div>\n",
              "      <button class=\"colab-df-convert\" onclick=\"convertToInteractive('df-7b34e45e-eb89-4bba-acf1-4a1d20762488')\"\n",
              "              title=\"Convert this dataframe to an interactive table.\"\n",
              "              style=\"display:none;\">\n",
              "\n",
              "  <svg xmlns=\"http://www.w3.org/2000/svg\" height=\"24px\"viewBox=\"0 0 24 24\"\n",
              "       width=\"24px\">\n",
              "    <path d=\"M0 0h24v24H0V0z\" fill=\"none\"/>\n",
              "    <path d=\"M18.56 5.44l.94 2.06.94-2.06 2.06-.94-2.06-.94-.94-2.06-.94 2.06-2.06.94zm-11 1L8.5 8.5l.94-2.06 2.06-.94-2.06-.94L8.5 2.5l-.94 2.06-2.06.94zm10 10l.94 2.06.94-2.06 2.06-.94-2.06-.94-.94-2.06-.94 2.06-2.06.94z\"/><path d=\"M17.41 7.96l-1.37-1.37c-.4-.4-.92-.59-1.43-.59-.52 0-1.04.2-1.43.59L10.3 9.45l-7.72 7.72c-.78.78-.78 2.05 0 2.83L4 21.41c.39.39.9.59 1.41.59.51 0 1.02-.2 1.41-.59l7.78-7.78 2.81-2.81c.8-.78.8-2.07 0-2.86zM5.41 20L4 18.59l7.72-7.72 1.47 1.35L5.41 20z\"/>\n",
              "  </svg>\n",
              "      </button>\n",
              "\n",
              "\n",
              "\n",
              "    <div id=\"df-2ef09e2f-a542-4f65-997a-fcfa0fc1619a\">\n",
              "      <button class=\"colab-df-quickchart\" onclick=\"quickchart('df-2ef09e2f-a542-4f65-997a-fcfa0fc1619a')\"\n",
              "              title=\"Suggest charts.\"\n",
              "              style=\"display:none;\">\n",
              "\n",
              "<svg xmlns=\"http://www.w3.org/2000/svg\" height=\"24px\"viewBox=\"0 0 24 24\"\n",
              "     width=\"24px\">\n",
              "    <g>\n",
              "        <path d=\"M19 3H5c-1.1 0-2 .9-2 2v14c0 1.1.9 2 2 2h14c1.1 0 2-.9 2-2V5c0-1.1-.9-2-2-2zM9 17H7v-7h2v7zm4 0h-2V7h2v10zm4 0h-2v-4h2v4z\"/>\n",
              "    </g>\n",
              "</svg>\n",
              "      </button>\n",
              "    </div>\n",
              "\n",
              "<style>\n",
              "  .colab-df-quickchart {\n",
              "    background-color: #E8F0FE;\n",
              "    border: none;\n",
              "    border-radius: 50%;\n",
              "    cursor: pointer;\n",
              "    display: none;\n",
              "    fill: #1967D2;\n",
              "    height: 32px;\n",
              "    padding: 0 0 0 0;\n",
              "    width: 32px;\n",
              "  }\n",
              "\n",
              "  .colab-df-quickchart:hover {\n",
              "    background-color: #E2EBFA;\n",
              "    box-shadow: 0px 1px 2px rgba(60, 64, 67, 0.3), 0px 1px 3px 1px rgba(60, 64, 67, 0.15);\n",
              "    fill: #174EA6;\n",
              "  }\n",
              "\n",
              "  [theme=dark] .colab-df-quickchart {\n",
              "    background-color: #3B4455;\n",
              "    fill: #D2E3FC;\n",
              "  }\n",
              "\n",
              "  [theme=dark] .colab-df-quickchart:hover {\n",
              "    background-color: #434B5C;\n",
              "    box-shadow: 0px 1px 3px 1px rgba(0, 0, 0, 0.15);\n",
              "    filter: drop-shadow(0px 1px 2px rgba(0, 0, 0, 0.3));\n",
              "    fill: #FFFFFF;\n",
              "  }\n",
              "</style>\n",
              "\n",
              "    <script>\n",
              "      async function quickchart(key) {\n",
              "        const containerElement = document.querySelector('#' + key);\n",
              "        const charts = await google.colab.kernel.invokeFunction(\n",
              "            'suggestCharts', [key], {});\n",
              "      }\n",
              "    </script>\n",
              "\n",
              "      <script>\n",
              "\n",
              "function displayQuickchartButton(domScope) {\n",
              "  let quickchartButtonEl =\n",
              "    domScope.querySelector('#df-2ef09e2f-a542-4f65-997a-fcfa0fc1619a button.colab-df-quickchart');\n",
              "  quickchartButtonEl.style.display =\n",
              "    google.colab.kernel.accessAllowed ? 'block' : 'none';\n",
              "}\n",
              "\n",
              "        displayQuickchartButton(document);\n",
              "      </script>\n",
              "      <style>\n",
              "    .colab-df-container {\n",
              "      display:flex;\n",
              "      flex-wrap:wrap;\n",
              "      gap: 12px;\n",
              "    }\n",
              "\n",
              "    .colab-df-convert {\n",
              "      background-color: #E8F0FE;\n",
              "      border: none;\n",
              "      border-radius: 50%;\n",
              "      cursor: pointer;\n",
              "      display: none;\n",
              "      fill: #1967D2;\n",
              "      height: 32px;\n",
              "      padding: 0 0 0 0;\n",
              "      width: 32px;\n",
              "    }\n",
              "\n",
              "    .colab-df-convert:hover {\n",
              "      background-color: #E2EBFA;\n",
              "      box-shadow: 0px 1px 2px rgba(60, 64, 67, 0.3), 0px 1px 3px 1px rgba(60, 64, 67, 0.15);\n",
              "      fill: #174EA6;\n",
              "    }\n",
              "\n",
              "    [theme=dark] .colab-df-convert {\n",
              "      background-color: #3B4455;\n",
              "      fill: #D2E3FC;\n",
              "    }\n",
              "\n",
              "    [theme=dark] .colab-df-convert:hover {\n",
              "      background-color: #434B5C;\n",
              "      box-shadow: 0px 1px 3px 1px rgba(0, 0, 0, 0.15);\n",
              "      filter: drop-shadow(0px 1px 2px rgba(0, 0, 0, 0.3));\n",
              "      fill: #FFFFFF;\n",
              "    }\n",
              "  </style>\n",
              "\n",
              "      <script>\n",
              "        const buttonEl =\n",
              "          document.querySelector('#df-7b34e45e-eb89-4bba-acf1-4a1d20762488 button.colab-df-convert');\n",
              "        buttonEl.style.display =\n",
              "          google.colab.kernel.accessAllowed ? 'block' : 'none';\n",
              "\n",
              "        async function convertToInteractive(key) {\n",
              "          const element = document.querySelector('#df-7b34e45e-eb89-4bba-acf1-4a1d20762488');\n",
              "          const dataTable =\n",
              "            await google.colab.kernel.invokeFunction('convertToInteractive',\n",
              "                                                     [key], {});\n",
              "          if (!dataTable) return;\n",
              "\n",
              "          const docLinkHtml = 'Like what you see? Visit the ' +\n",
              "            '<a target=\"_blank\" href=https://colab.research.google.com/notebooks/data_table.ipynb>data table notebook</a>'\n",
              "            + ' to learn more about interactive tables.';\n",
              "          element.innerHTML = '';\n",
              "          dataTable['output_type'] = 'display_data';\n",
              "          await google.colab.output.renderOutput(dataTable, element);\n",
              "          const docLink = document.createElement('div');\n",
              "          docLink.innerHTML = docLinkHtml;\n",
              "          element.appendChild(docLink);\n",
              "        }\n",
              "      </script>\n",
              "    </div>\n",
              "  </div>\n"
            ]
          },
          "metadata": {},
          "execution_count": 3
        }
      ],
      "source": [
        "df.head()"
      ]
    },
    {
      "cell_type": "code",
      "execution_count": 4,
      "id": "755c83a5",
      "metadata": {
        "colab": {
          "base_uri": "https://localhost:8080/"
        },
        "id": "755c83a5",
        "outputId": "074bcf2f-8ed1-427d-9d7b-7931ec4b1f0c"
      },
      "outputs": [
        {
          "output_type": "execute_result",
          "data": {
            "text/plain": [
              "Index(['Date', 'Open', 'High', 'Low', 'Close', 'Volume', 'OpenInt', 'Stock'], dtype='object')"
            ]
          },
          "metadata": {},
          "execution_count": 4
        }
      ],
      "source": [
        "df.columns"
      ]
    },
    {
      "cell_type": "code",
      "execution_count": 5,
      "id": "fed0b0a4",
      "metadata": {
        "scrolled": true,
        "colab": {
          "base_uri": "https://localhost:8080/"
        },
        "id": "fed0b0a4",
        "outputId": "ee3067e9-49e2-4c09-ac75-a39382050b69"
      },
      "outputs": [
        {
          "output_type": "execute_result",
          "data": {
            "text/plain": [
              "Date       0\n",
              "Open       0\n",
              "High       0\n",
              "Low        0\n",
              "Close      0\n",
              "Volume     0\n",
              "OpenInt    0\n",
              "Stock      0\n",
              "dtype: int64"
            ]
          },
          "metadata": {},
          "execution_count": 5
        }
      ],
      "source": [
        "df.isnull().sum()"
      ]
    },
    {
      "cell_type": "code",
      "execution_count": 6,
      "id": "8918c1db",
      "metadata": {
        "id": "8918c1db"
      },
      "outputs": [],
      "source": [
        "# Data Processing\n",
        "# Feature Scaling\n",
        "\n",
        "scalar = MinMaxScaler()\n",
        "df[['Open','High','Low','Close']] = scalar.fit_transform(df[['Open','High','Low','Close']])\n",
        "df['Volume'] = scalar.fit_transform(df['Volume'].values.reshape(-1,1))\n"
      ]
    },
    {
      "cell_type": "code",
      "execution_count": 7,
      "id": "11c38a70",
      "metadata": {
        "colab": {
          "base_uri": "https://localhost:8080/"
        },
        "id": "11c38a70",
        "outputId": "4ab47717-6e0e-4142-fb5b-323a6bba63a2"
      },
      "outputs": [
        {
          "output_type": "execute_result",
          "data": {
            "text/plain": [
              "0        0.011219\n",
              "1        0.008708\n",
              "2        0.020533\n",
              "3        0.017937\n",
              "4        0.027936\n",
              "           ...   \n",
              "19581    0.006414\n",
              "19582    0.006234\n",
              "19583    0.005057\n",
              "19584    0.006089\n",
              "19585    0.005344\n",
              "Name: Volume, Length: 19586, dtype: float64"
            ]
          },
          "metadata": {},
          "execution_count": 7
        }
      ],
      "source": [
        "df['Volume']"
      ]
    },
    {
      "cell_type": "code",
      "execution_count": 8,
      "id": "f6eb9a06",
      "metadata": {
        "colab": {
          "base_uri": "https://localhost:8080/"
        },
        "id": "f6eb9a06",
        "outputId": "848d5975-3d1e-46bc-b86c-077ad03674fc"
      },
      "outputs": [
        {
          "output_type": "execute_result",
          "data": {
            "text/plain": [
              "1.0"
            ]
          },
          "metadata": {},
          "execution_count": 8
        }
      ],
      "source": [
        "df['Volume'].max()"
      ]
    },
    {
      "cell_type": "code",
      "execution_count": 9,
      "id": "8fd23428",
      "metadata": {
        "colab": {
          "base_uri": "https://localhost:8080/"
        },
        "id": "8fd23428",
        "outputId": "500893ef-7e41-4fd2-e607-79771065eabb"
      },
      "outputs": [
        {
          "output_type": "execute_result",
          "data": {
            "text/plain": [
              "0        0.000923\n",
              "1        0.000923\n",
              "2        0.000926\n",
              "3        0.000936\n",
              "4        0.000962\n",
              "           ...   \n",
              "19581    0.461672\n",
              "19582    0.466689\n",
              "19583    0.464853\n",
              "19584    0.461025\n",
              "19585    0.461129\n",
              "Name: Open, Length: 19586, dtype: float64"
            ]
          },
          "metadata": {},
          "execution_count": 9
        }
      ],
      "source": [
        "df['Open']"
      ]
    },
    {
      "cell_type": "code",
      "execution_count": 10,
      "id": "3adb28a0",
      "metadata": {
        "colab": {
          "base_uri": "https://localhost:8080/"
        },
        "id": "3adb28a0",
        "outputId": "52902ecc-ca3c-4caf-c7e7-673e281a57fa"
      },
      "outputs": [
        {
          "output_type": "execute_result",
          "data": {
            "text/plain": [
              "1.0"
            ]
          },
          "metadata": {},
          "execution_count": 10
        }
      ],
      "source": [
        "df['Open'].max()"
      ]
    },
    {
      "cell_type": "code",
      "execution_count": 11,
      "id": "0287376e",
      "metadata": {
        "colab": {
          "base_uri": "https://localhost:8080/"
        },
        "id": "0287376e",
        "outputId": "7ec17e47-3514-495e-8192-b811c6c9d2d2"
      },
      "outputs": [
        {
          "output_type": "execute_result",
          "data": {
            "text/plain": [
              "0.0"
            ]
          },
          "metadata": {},
          "execution_count": 11
        }
      ],
      "source": [
        "df['Open'].min()"
      ]
    },
    {
      "cell_type": "code",
      "execution_count": 12,
      "id": "d0415837",
      "metadata": {
        "scrolled": false,
        "colab": {
          "base_uri": "https://localhost:8080/"
        },
        "id": "d0415837",
        "outputId": "708300e0-d00f-48ac-82a4-385037ed41f7"
      },
      "outputs": [
        {
          "output_type": "execute_result",
          "data": {
            "text/plain": [
              "0        0.000929\n",
              "1        0.000919\n",
              "2        0.000948\n",
              "3        0.000935\n",
              "4        0.000958\n",
              "           ...   \n",
              "19581    0.463063\n",
              "19582    0.463828\n",
              "19583    0.462806\n",
              "19584    0.460367\n",
              "19585    0.459597\n",
              "Name: High, Length: 19586, dtype: float64"
            ]
          },
          "metadata": {},
          "execution_count": 12
        }
      ],
      "source": [
        "df['High']"
      ]
    },
    {
      "cell_type": "code",
      "execution_count": 13,
      "id": "ce98f21e",
      "metadata": {
        "id": "ce98f21e"
      },
      "outputs": [],
      "source": [
        "# Feature Selection\n",
        "\n",
        "X = df[['Open','High','Low','Close']]\n",
        "y = df['Volume']\n"
      ]
    },
    {
      "cell_type": "code",
      "execution_count": 14,
      "id": "93935a72",
      "metadata": {
        "colab": {
          "base_uri": "https://localhost:8080/",
          "height": 424
        },
        "id": "93935a72",
        "outputId": "c4385987-d15a-497f-b1c5-91d419eb31ec"
      },
      "outputs": [
        {
          "output_type": "execute_result",
          "data": {
            "text/plain": [
              "           Open      High       Low     Close\n",
              "0      0.000923  0.000929  0.000927  0.000927\n",
              "1      0.000923  0.000919  0.000913  0.000920\n",
              "2      0.000926  0.000948  0.000944  0.000940\n",
              "3      0.000936  0.000935  0.000920  0.000907\n",
              "4      0.000962  0.000958  0.000981  0.000967\n",
              "...         ...       ...       ...       ...\n",
              "19581  0.461672  0.463063  0.469953  0.467881\n",
              "19582  0.466689  0.463828  0.472835  0.468089\n",
              "19583  0.464853  0.462806  0.472062  0.466296\n",
              "19584  0.461025  0.460367  0.466737  0.465621\n",
              "19585  0.461129  0.459597  0.469030  0.463439\n",
              "\n",
              "[19586 rows x 4 columns]"
            ],
            "text/html": [
              "\n",
              "\n",
              "  <div id=\"df-91230c56-db40-406b-9e9c-ba9e6a98d73b\">\n",
              "    <div class=\"colab-df-container\">\n",
              "      <div>\n",
              "<style scoped>\n",
              "    .dataframe tbody tr th:only-of-type {\n",
              "        vertical-align: middle;\n",
              "    }\n",
              "\n",
              "    .dataframe tbody tr th {\n",
              "        vertical-align: top;\n",
              "    }\n",
              "\n",
              "    .dataframe thead th {\n",
              "        text-align: right;\n",
              "    }\n",
              "</style>\n",
              "<table border=\"1\" class=\"dataframe\">\n",
              "  <thead>\n",
              "    <tr style=\"text-align: right;\">\n",
              "      <th></th>\n",
              "      <th>Open</th>\n",
              "      <th>High</th>\n",
              "      <th>Low</th>\n",
              "      <th>Close</th>\n",
              "    </tr>\n",
              "  </thead>\n",
              "  <tbody>\n",
              "    <tr>\n",
              "      <th>0</th>\n",
              "      <td>0.000923</td>\n",
              "      <td>0.000929</td>\n",
              "      <td>0.000927</td>\n",
              "      <td>0.000927</td>\n",
              "    </tr>\n",
              "    <tr>\n",
              "      <th>1</th>\n",
              "      <td>0.000923</td>\n",
              "      <td>0.000919</td>\n",
              "      <td>0.000913</td>\n",
              "      <td>0.000920</td>\n",
              "    </tr>\n",
              "    <tr>\n",
              "      <th>2</th>\n",
              "      <td>0.000926</td>\n",
              "      <td>0.000948</td>\n",
              "      <td>0.000944</td>\n",
              "      <td>0.000940</td>\n",
              "    </tr>\n",
              "    <tr>\n",
              "      <th>3</th>\n",
              "      <td>0.000936</td>\n",
              "      <td>0.000935</td>\n",
              "      <td>0.000920</td>\n",
              "      <td>0.000907</td>\n",
              "    </tr>\n",
              "    <tr>\n",
              "      <th>4</th>\n",
              "      <td>0.000962</td>\n",
              "      <td>0.000958</td>\n",
              "      <td>0.000981</td>\n",
              "      <td>0.000967</td>\n",
              "    </tr>\n",
              "    <tr>\n",
              "      <th>...</th>\n",
              "      <td>...</td>\n",
              "      <td>...</td>\n",
              "      <td>...</td>\n",
              "      <td>...</td>\n",
              "    </tr>\n",
              "    <tr>\n",
              "      <th>19581</th>\n",
              "      <td>0.461672</td>\n",
              "      <td>0.463063</td>\n",
              "      <td>0.469953</td>\n",
              "      <td>0.467881</td>\n",
              "    </tr>\n",
              "    <tr>\n",
              "      <th>19582</th>\n",
              "      <td>0.466689</td>\n",
              "      <td>0.463828</td>\n",
              "      <td>0.472835</td>\n",
              "      <td>0.468089</td>\n",
              "    </tr>\n",
              "    <tr>\n",
              "      <th>19583</th>\n",
              "      <td>0.464853</td>\n",
              "      <td>0.462806</td>\n",
              "      <td>0.472062</td>\n",
              "      <td>0.466296</td>\n",
              "    </tr>\n",
              "    <tr>\n",
              "      <th>19584</th>\n",
              "      <td>0.461025</td>\n",
              "      <td>0.460367</td>\n",
              "      <td>0.466737</td>\n",
              "      <td>0.465621</td>\n",
              "    </tr>\n",
              "    <tr>\n",
              "      <th>19585</th>\n",
              "      <td>0.461129</td>\n",
              "      <td>0.459597</td>\n",
              "      <td>0.469030</td>\n",
              "      <td>0.463439</td>\n",
              "    </tr>\n",
              "  </tbody>\n",
              "</table>\n",
              "<p>19586 rows × 4 columns</p>\n",
              "</div>\n",
              "      <button class=\"colab-df-convert\" onclick=\"convertToInteractive('df-91230c56-db40-406b-9e9c-ba9e6a98d73b')\"\n",
              "              title=\"Convert this dataframe to an interactive table.\"\n",
              "              style=\"display:none;\">\n",
              "\n",
              "  <svg xmlns=\"http://www.w3.org/2000/svg\" height=\"24px\"viewBox=\"0 0 24 24\"\n",
              "       width=\"24px\">\n",
              "    <path d=\"M0 0h24v24H0V0z\" fill=\"none\"/>\n",
              "    <path d=\"M18.56 5.44l.94 2.06.94-2.06 2.06-.94-2.06-.94-.94-2.06-.94 2.06-2.06.94zm-11 1L8.5 8.5l.94-2.06 2.06-.94-2.06-.94L8.5 2.5l-.94 2.06-2.06.94zm10 10l.94 2.06.94-2.06 2.06-.94-2.06-.94-.94-2.06-.94 2.06-2.06.94z\"/><path d=\"M17.41 7.96l-1.37-1.37c-.4-.4-.92-.59-1.43-.59-.52 0-1.04.2-1.43.59L10.3 9.45l-7.72 7.72c-.78.78-.78 2.05 0 2.83L4 21.41c.39.39.9.59 1.41.59.51 0 1.02-.2 1.41-.59l7.78-7.78 2.81-2.81c.8-.78.8-2.07 0-2.86zM5.41 20L4 18.59l7.72-7.72 1.47 1.35L5.41 20z\"/>\n",
              "  </svg>\n",
              "      </button>\n",
              "\n",
              "\n",
              "\n",
              "    <div id=\"df-f89c0e57-17c8-4cd0-aaf3-f13735ced6fe\">\n",
              "      <button class=\"colab-df-quickchart\" onclick=\"quickchart('df-f89c0e57-17c8-4cd0-aaf3-f13735ced6fe')\"\n",
              "              title=\"Suggest charts.\"\n",
              "              style=\"display:none;\">\n",
              "\n",
              "<svg xmlns=\"http://www.w3.org/2000/svg\" height=\"24px\"viewBox=\"0 0 24 24\"\n",
              "     width=\"24px\">\n",
              "    <g>\n",
              "        <path d=\"M19 3H5c-1.1 0-2 .9-2 2v14c0 1.1.9 2 2 2h14c1.1 0 2-.9 2-2V5c0-1.1-.9-2-2-2zM9 17H7v-7h2v7zm4 0h-2V7h2v10zm4 0h-2v-4h2v4z\"/>\n",
              "    </g>\n",
              "</svg>\n",
              "      </button>\n",
              "    </div>\n",
              "\n",
              "<style>\n",
              "  .colab-df-quickchart {\n",
              "    background-color: #E8F0FE;\n",
              "    border: none;\n",
              "    border-radius: 50%;\n",
              "    cursor: pointer;\n",
              "    display: none;\n",
              "    fill: #1967D2;\n",
              "    height: 32px;\n",
              "    padding: 0 0 0 0;\n",
              "    width: 32px;\n",
              "  }\n",
              "\n",
              "  .colab-df-quickchart:hover {\n",
              "    background-color: #E2EBFA;\n",
              "    box-shadow: 0px 1px 2px rgba(60, 64, 67, 0.3), 0px 1px 3px 1px rgba(60, 64, 67, 0.15);\n",
              "    fill: #174EA6;\n",
              "  }\n",
              "\n",
              "  [theme=dark] .colab-df-quickchart {\n",
              "    background-color: #3B4455;\n",
              "    fill: #D2E3FC;\n",
              "  }\n",
              "\n",
              "  [theme=dark] .colab-df-quickchart:hover {\n",
              "    background-color: #434B5C;\n",
              "    box-shadow: 0px 1px 3px 1px rgba(0, 0, 0, 0.15);\n",
              "    filter: drop-shadow(0px 1px 2px rgba(0, 0, 0, 0.3));\n",
              "    fill: #FFFFFF;\n",
              "  }\n",
              "</style>\n",
              "\n",
              "    <script>\n",
              "      async function quickchart(key) {\n",
              "        const containerElement = document.querySelector('#' + key);\n",
              "        const charts = await google.colab.kernel.invokeFunction(\n",
              "            'suggestCharts', [key], {});\n",
              "      }\n",
              "    </script>\n",
              "\n",
              "      <script>\n",
              "\n",
              "function displayQuickchartButton(domScope) {\n",
              "  let quickchartButtonEl =\n",
              "    domScope.querySelector('#df-f89c0e57-17c8-4cd0-aaf3-f13735ced6fe button.colab-df-quickchart');\n",
              "  quickchartButtonEl.style.display =\n",
              "    google.colab.kernel.accessAllowed ? 'block' : 'none';\n",
              "}\n",
              "\n",
              "        displayQuickchartButton(document);\n",
              "      </script>\n",
              "      <style>\n",
              "    .colab-df-container {\n",
              "      display:flex;\n",
              "      flex-wrap:wrap;\n",
              "      gap: 12px;\n",
              "    }\n",
              "\n",
              "    .colab-df-convert {\n",
              "      background-color: #E8F0FE;\n",
              "      border: none;\n",
              "      border-radius: 50%;\n",
              "      cursor: pointer;\n",
              "      display: none;\n",
              "      fill: #1967D2;\n",
              "      height: 32px;\n",
              "      padding: 0 0 0 0;\n",
              "      width: 32px;\n",
              "    }\n",
              "\n",
              "    .colab-df-convert:hover {\n",
              "      background-color: #E2EBFA;\n",
              "      box-shadow: 0px 1px 2px rgba(60, 64, 67, 0.3), 0px 1px 3px 1px rgba(60, 64, 67, 0.15);\n",
              "      fill: #174EA6;\n",
              "    }\n",
              "\n",
              "    [theme=dark] .colab-df-convert {\n",
              "      background-color: #3B4455;\n",
              "      fill: #D2E3FC;\n",
              "    }\n",
              "\n",
              "    [theme=dark] .colab-df-convert:hover {\n",
              "      background-color: #434B5C;\n",
              "      box-shadow: 0px 1px 3px 1px rgba(0, 0, 0, 0.15);\n",
              "      filter: drop-shadow(0px 1px 2px rgba(0, 0, 0, 0.3));\n",
              "      fill: #FFFFFF;\n",
              "    }\n",
              "  </style>\n",
              "\n",
              "      <script>\n",
              "        const buttonEl =\n",
              "          document.querySelector('#df-91230c56-db40-406b-9e9c-ba9e6a98d73b button.colab-df-convert');\n",
              "        buttonEl.style.display =\n",
              "          google.colab.kernel.accessAllowed ? 'block' : 'none';\n",
              "\n",
              "        async function convertToInteractive(key) {\n",
              "          const element = document.querySelector('#df-91230c56-db40-406b-9e9c-ba9e6a98d73b');\n",
              "          const dataTable =\n",
              "            await google.colab.kernel.invokeFunction('convertToInteractive',\n",
              "                                                     [key], {});\n",
              "          if (!dataTable) return;\n",
              "\n",
              "          const docLinkHtml = 'Like what you see? Visit the ' +\n",
              "            '<a target=\"_blank\" href=https://colab.research.google.com/notebooks/data_table.ipynb>data table notebook</a>'\n",
              "            + ' to learn more about interactive tables.';\n",
              "          element.innerHTML = '';\n",
              "          dataTable['output_type'] = 'display_data';\n",
              "          await google.colab.output.renderOutput(dataTable, element);\n",
              "          const docLink = document.createElement('div');\n",
              "          docLink.innerHTML = docLinkHtml;\n",
              "          element.appendChild(docLink);\n",
              "        }\n",
              "      </script>\n",
              "    </div>\n",
              "  </div>\n"
            ]
          },
          "metadata": {},
          "execution_count": 14
        }
      ],
      "source": [
        "X"
      ]
    },
    {
      "cell_type": "code",
      "execution_count": 15,
      "id": "d1d6e21a",
      "metadata": {
        "colab": {
          "base_uri": "https://localhost:8080/"
        },
        "id": "d1d6e21a",
        "outputId": "0ef86973-7314-4a57-e3b4-8f9e54f3f0ff"
      },
      "outputs": [
        {
          "output_type": "execute_result",
          "data": {
            "text/plain": [
              "0        0.011219\n",
              "1        0.008708\n",
              "2        0.020533\n",
              "3        0.017937\n",
              "4        0.027936\n",
              "           ...   \n",
              "19581    0.006414\n",
              "19582    0.006234\n",
              "19583    0.005057\n",
              "19584    0.006089\n",
              "19585    0.005344\n",
              "Name: Volume, Length: 19586, dtype: float64"
            ]
          },
          "metadata": {},
          "execution_count": 15
        }
      ],
      "source": [
        "y"
      ]
    },
    {
      "cell_type": "code",
      "execution_count": 16,
      "id": "129523e7",
      "metadata": {
        "id": "129523e7"
      },
      "outputs": [],
      "source": [
        "# Splitting the data into training and Testing\n",
        "\n",
        "from sklearn.model_selection import train_test_split\n",
        "\n",
        "X_train, X_test, y_train, y_test = train_test_split(X, y, test_size=0.2, random_state=42)\n"
      ]
    },
    {
      "cell_type": "code",
      "execution_count": 17,
      "id": "7d745a88",
      "metadata": {
        "colab": {
          "base_uri": "https://localhost:8080/"
        },
        "id": "7d745a88",
        "outputId": "76119771-0609-4cc7-a950-2b425421f262"
      },
      "outputs": [
        {
          "output_type": "execute_result",
          "data": {
            "text/plain": [
              "Open     15668\n",
              "High     15668\n",
              "Low      15668\n",
              "Close    15668\n",
              "dtype: int64"
            ]
          },
          "metadata": {},
          "execution_count": 17
        }
      ],
      "source": [
        "X_train.count()"
      ]
    },
    {
      "cell_type": "code",
      "execution_count": 18,
      "id": "ed30e684",
      "metadata": {
        "colab": {
          "base_uri": "https://localhost:8080/"
        },
        "id": "ed30e684",
        "outputId": "3ded1f1f-b510-4af1-d06c-bddf50ab5471"
      },
      "outputs": [
        {
          "output_type": "execute_result",
          "data": {
            "text/plain": [
              "Open     3918\n",
              "High     3918\n",
              "Low      3918\n",
              "Close    3918\n",
              "dtype: int64"
            ]
          },
          "metadata": {},
          "execution_count": 18
        }
      ],
      "source": [
        "X_test.count()"
      ]
    },
    {
      "cell_type": "code",
      "execution_count": 19,
      "id": "a3aef5b1",
      "metadata": {
        "colab": {
          "base_uri": "https://localhost:8080/"
        },
        "id": "a3aef5b1",
        "outputId": "4cd7b179-92fb-4e56-b068-32682e89d1f1"
      },
      "outputs": [
        {
          "output_type": "execute_result",
          "data": {
            "text/plain": [
              "15668"
            ]
          },
          "metadata": {},
          "execution_count": 19
        }
      ],
      "source": [
        "y_train.count()"
      ]
    },
    {
      "cell_type": "code",
      "execution_count": 20,
      "id": "514ac42c",
      "metadata": {
        "colab": {
          "base_uri": "https://localhost:8080/"
        },
        "id": "514ac42c",
        "outputId": "5da875ec-8125-44bc-f5d6-04d46b837371"
      },
      "outputs": [
        {
          "output_type": "execute_result",
          "data": {
            "text/plain": [
              "3918"
            ]
          },
          "metadata": {},
          "execution_count": 20
        }
      ],
      "source": [
        "y_test.count()"
      ]
    },
    {
      "cell_type": "code",
      "execution_count": 21,
      "id": "e78e1edb",
      "metadata": {
        "id": "e78e1edb"
      },
      "outputs": [],
      "source": [
        "# Reshape data to be 3D for LSTM model\n",
        "\n",
        "from keras.layers import  LSTM\n",
        "\n",
        "X_train = np.reshape(X_train.values,(X_train.shape[0],X_train.shape[1],1))\n",
        "\n",
        "X_test = np.reshape(X_test.values,(X_test.shape[0],X_test.shape[1],1))"
      ]
    },
    {
      "cell_type": "code",
      "execution_count": 22,
      "id": "3df28472",
      "metadata": {
        "colab": {
          "base_uri": "https://localhost:8080/"
        },
        "id": "3df28472",
        "outputId": "c63d77de-1a38-474a-e99c-67d717e03c0c"
      },
      "outputs": [
        {
          "output_type": "execute_result",
          "data": {
            "text/plain": [
              "array([[[0.00334357],\n",
              "        [0.00334161],\n",
              "        [0.00334689],\n",
              "        [0.00335825]],\n",
              "\n",
              "       [[0.00071056],\n",
              "        [0.00070524],\n",
              "        [0.00069398],\n",
              "        [0.00069043]],\n",
              "\n",
              "       [[0.01420661],\n",
              "        [0.01412168],\n",
              "        [0.01392884],\n",
              "        [0.01381124]],\n",
              "\n",
              "       ...,\n",
              "\n",
              "       [[0.02504974],\n",
              "        [0.02598379],\n",
              "        [0.02547948],\n",
              "        [0.0256637 ]],\n",
              "\n",
              "       [[0.00326468],\n",
              "        [0.00326922],\n",
              "        [0.00323958],\n",
              "        [0.00325511]],\n",
              "\n",
              "       [[0.06532931],\n",
              "        [0.06569702],\n",
              "        [0.06641517],\n",
              "        [0.06609154]]])"
            ]
          },
          "metadata": {},
          "execution_count": 22
        }
      ],
      "source": [
        "X_train"
      ]
    },
    {
      "cell_type": "code",
      "execution_count": 23,
      "id": "69e550b2",
      "metadata": {
        "id": "69e550b2"
      },
      "outputs": [],
      "source": [
        "# Define LSTM model architecture\n",
        "\n",
        "from keras.models import Sequential\n",
        "from keras.layers import Dense\n",
        "\n",
        "model = Sequential()\n",
        "model.add(LSTM(units=50, return_sequences=True, input_shape=(X_train.shape[1], 1)))\n",
        "model.add(LSTM(units=50))\n",
        "model.add(Dense(1))"
      ]
    },
    {
      "cell_type": "code",
      "execution_count": 24,
      "id": "eeecbded",
      "metadata": {
        "id": "eeecbded"
      },
      "outputs": [],
      "source": [
        "# Compile the model\n",
        "\n",
        "from sklearn.metrics import mean_squared_error\n",
        "\n",
        "model.compile(loss='mean_squared_error',optimizer = 'adam')"
      ]
    },
    {
      "cell_type": "code",
      "execution_count": 25,
      "id": "9b140fbd",
      "metadata": {
        "scrolled": false,
        "colab": {
          "base_uri": "https://localhost:8080/"
        },
        "id": "9b140fbd",
        "outputId": "9cf9ad25-2b72-478f-b394-94e8b0552bf2"
      },
      "outputs": [
        {
          "output_type": "stream",
          "name": "stdout",
          "text": [
            "Epoch 1/60\n",
            "490/490 [==============================] - 15s 13ms/step - loss: 0.0014 - val_loss: 0.0014\n",
            "Epoch 2/60\n",
            "490/490 [==============================] - 4s 9ms/step - loss: 0.0014 - val_loss: 0.0014\n",
            "Epoch 3/60\n",
            "490/490 [==============================] - 4s 8ms/step - loss: 0.0014 - val_loss: 0.0014\n",
            "Epoch 4/60\n",
            "490/490 [==============================] - 5s 11ms/step - loss: 0.0014 - val_loss: 0.0014\n",
            "Epoch 5/60\n",
            "490/490 [==============================] - 5s 9ms/step - loss: 0.0014 - val_loss: 0.0014\n",
            "Epoch 6/60\n",
            "490/490 [==============================] - 4s 8ms/step - loss: 0.0014 - val_loss: 0.0014\n",
            "Epoch 7/60\n",
            "490/490 [==============================] - 5s 11ms/step - loss: 0.0014 - val_loss: 0.0014\n",
            "Epoch 8/60\n",
            "490/490 [==============================] - 5s 9ms/step - loss: 0.0013 - val_loss: 0.0014\n",
            "Epoch 9/60\n",
            "490/490 [==============================] - 7s 14ms/step - loss: 0.0013 - val_loss: 0.0014\n",
            "Epoch 10/60\n",
            "490/490 [==============================] - 6s 13ms/step - loss: 0.0014 - val_loss: 0.0014\n",
            "Epoch 11/60\n",
            "490/490 [==============================] - 5s 10ms/step - loss: 0.0013 - val_loss: 0.0014\n",
            "Epoch 12/60\n",
            "490/490 [==============================] - 5s 10ms/step - loss: 0.0013 - val_loss: 0.0014\n",
            "Epoch 13/60\n",
            "490/490 [==============================] - 4s 8ms/step - loss: 0.0013 - val_loss: 0.0014\n",
            "Epoch 14/60\n",
            "490/490 [==============================] - 5s 10ms/step - loss: 0.0013 - val_loss: 0.0014\n",
            "Epoch 15/60\n",
            "490/490 [==============================] - 5s 10ms/step - loss: 0.0013 - val_loss: 0.0014\n",
            "Epoch 16/60\n",
            "490/490 [==============================] - 4s 9ms/step - loss: 0.0013 - val_loss: 0.0014\n",
            "Epoch 17/60\n",
            "490/490 [==============================] - 5s 11ms/step - loss: 0.0013 - val_loss: 0.0014\n",
            "Epoch 18/60\n",
            "490/490 [==============================] - 4s 9ms/step - loss: 0.0013 - val_loss: 0.0014\n",
            "Epoch 19/60\n",
            "490/490 [==============================] - 6s 13ms/step - loss: 0.0013 - val_loss: 0.0014\n",
            "Epoch 20/60\n",
            "490/490 [==============================] - 5s 10ms/step - loss: 0.0013 - val_loss: 0.0014\n",
            "Epoch 21/60\n",
            "490/490 [==============================] - 4s 8ms/step - loss: 0.0013 - val_loss: 0.0014\n",
            "Epoch 22/60\n",
            "490/490 [==============================] - 5s 11ms/step - loss: 0.0013 - val_loss: 0.0014\n",
            "Epoch 23/60\n",
            "490/490 [==============================] - 4s 8ms/step - loss: 0.0013 - val_loss: 0.0014\n",
            "Epoch 24/60\n",
            "490/490 [==============================] - 4s 8ms/step - loss: 0.0013 - val_loss: 0.0014\n",
            "Epoch 25/60\n",
            "490/490 [==============================] - 5s 10ms/step - loss: 0.0013 - val_loss: 0.0014\n",
            "Epoch 26/60\n",
            "490/490 [==============================] - 4s 8ms/step - loss: 0.0013 - val_loss: 0.0014\n",
            "Epoch 27/60\n",
            "490/490 [==============================] - 4s 8ms/step - loss: 0.0013 - val_loss: 0.0014\n",
            "Epoch 28/60\n",
            "490/490 [==============================] - 5s 11ms/step - loss: 0.0013 - val_loss: 0.0014\n",
            "Epoch 29/60\n",
            "490/490 [==============================] - 4s 8ms/step - loss: 0.0013 - val_loss: 0.0013\n",
            "Epoch 30/60\n",
            "490/490 [==============================] - 4s 8ms/step - loss: 0.0012 - val_loss: 0.0013\n",
            "Epoch 31/60\n",
            "490/490 [==============================] - 6s 12ms/step - loss: 0.0012 - val_loss: 0.0012\n",
            "Epoch 32/60\n",
            "490/490 [==============================] - 4s 8ms/step - loss: 0.0012 - val_loss: 0.0012\n",
            "Epoch 33/60\n",
            "490/490 [==============================] - 4s 8ms/step - loss: 0.0012 - val_loss: 0.0012\n",
            "Epoch 34/60\n",
            "490/490 [==============================] - 5s 10ms/step - loss: 0.0012 - val_loss: 0.0012\n",
            "Epoch 35/60\n",
            "490/490 [==============================] - 5s 10ms/step - loss: 0.0012 - val_loss: 0.0012\n",
            "Epoch 36/60\n",
            "490/490 [==============================] - 4s 8ms/step - loss: 0.0012 - val_loss: 0.0012\n",
            "Epoch 37/60\n",
            "490/490 [==============================] - 5s 10ms/step - loss: 0.0012 - val_loss: 0.0012\n",
            "Epoch 38/60\n",
            "490/490 [==============================] - 4s 8ms/step - loss: 0.0012 - val_loss: 0.0012\n",
            "Epoch 39/60\n",
            "490/490 [==============================] - 4s 8ms/step - loss: 0.0012 - val_loss: 0.0012\n",
            "Epoch 40/60\n",
            "490/490 [==============================] - 5s 10ms/step - loss: 0.0012 - val_loss: 0.0012\n",
            "Epoch 41/60\n",
            "490/490 [==============================] - 4s 8ms/step - loss: 0.0012 - val_loss: 0.0012\n",
            "Epoch 42/60\n",
            "490/490 [==============================] - 4s 8ms/step - loss: 0.0012 - val_loss: 0.0012\n",
            "Epoch 43/60\n",
            "490/490 [==============================] - 5s 10ms/step - loss: 0.0012 - val_loss: 0.0012\n",
            "Epoch 44/60\n",
            "490/490 [==============================] - 4s 8ms/step - loss: 0.0012 - val_loss: 0.0012\n",
            "Epoch 45/60\n",
            "490/490 [==============================] - 4s 8ms/step - loss: 0.0012 - val_loss: 0.0012\n",
            "Epoch 46/60\n",
            "490/490 [==============================] - 5s 10ms/step - loss: 0.0012 - val_loss: 0.0012\n",
            "Epoch 47/60\n",
            "490/490 [==============================] - 4s 8ms/step - loss: 0.0012 - val_loss: 0.0012\n",
            "Epoch 48/60\n",
            "490/490 [==============================] - 4s 8ms/step - loss: 0.0012 - val_loss: 0.0012\n",
            "Epoch 49/60\n",
            "490/490 [==============================] - 5s 10ms/step - loss: 0.0012 - val_loss: 0.0012\n",
            "Epoch 50/60\n",
            "490/490 [==============================] - 4s 8ms/step - loss: 0.0012 - val_loss: 0.0012\n",
            "Epoch 51/60\n",
            "490/490 [==============================] - 4s 8ms/step - loss: 0.0012 - val_loss: 0.0012\n",
            "Epoch 52/60\n",
            "490/490 [==============================] - 5s 10ms/step - loss: 0.0012 - val_loss: 0.0012\n",
            "Epoch 53/60\n",
            "490/490 [==============================] - 4s 8ms/step - loss: 0.0012 - val_loss: 0.0012\n",
            "Epoch 54/60\n",
            "490/490 [==============================] - 4s 8ms/step - loss: 0.0012 - val_loss: 0.0012\n",
            "Epoch 55/60\n",
            "490/490 [==============================] - 5s 10ms/step - loss: 0.0012 - val_loss: 0.0012\n",
            "Epoch 56/60\n",
            "490/490 [==============================] - 4s 8ms/step - loss: 0.0012 - val_loss: 0.0012\n",
            "Epoch 57/60\n",
            "490/490 [==============================] - 4s 8ms/step - loss: 0.0012 - val_loss: 0.0012\n",
            "Epoch 58/60\n",
            "490/490 [==============================] - 5s 9ms/step - loss: 0.0012 - val_loss: 0.0012\n",
            "Epoch 59/60\n",
            "490/490 [==============================] - 4s 9ms/step - loss: 0.0012 - val_loss: 0.0012\n",
            "Epoch 60/60\n",
            "490/490 [==============================] - 4s 8ms/step - loss: 0.0012 - val_loss: 0.0012\n"
          ]
        }
      ],
      "source": [
        "# Train the model\n",
        "\n",
        "Train_Model = model.fit(X_train,y_train,epochs=60,batch_size=32,validation_data=(X_test,y_test))"
      ]
    },
    {
      "cell_type": "code",
      "execution_count": 26,
      "id": "7de2338a",
      "metadata": {
        "colab": {
          "base_uri": "https://localhost:8080/"
        },
        "id": "7de2338a",
        "outputId": "3d37496c-4a54-4d80-bcd2-12006e458253"
      },
      "outputs": [
        {
          "output_type": "stream",
          "name": "stdout",
          "text": [
            "123/123 [==============================] - 1s 3ms/step\n",
            "Root_Mean_Squared_Error is : 0.03489119173868933\n"
          ]
        }
      ],
      "source": [
        "# Evaluation of the model\n",
        "\n",
        "y_pred = model.predict(X_test)\n",
        "\n",
        "rmse = np.sqrt(mean_squared_error(y_test,y_pred))\n",
        "print(\"Root_Mean_Squared_Error is :\",rmse)"
      ]
    },
    {
      "cell_type": "code",
      "execution_count": 27,
      "id": "99402ad1",
      "metadata": {
        "colab": {
          "base_uri": "https://localhost:8080/",
          "height": 430
        },
        "id": "99402ad1",
        "outputId": "f962b674-f494-4c88-fba9-1f8aa2ee4472"
      },
      "outputs": [
        {
          "output_type": "display_data",
          "data": {
            "text/plain": [
              "<Figure size 640x480 with 1 Axes>"
            ],
            "image/png": "[encoded data removed]"
          },
          "metadata": {}
        }
      ],
      "source": [
        "# Visualize training and validation loss\n",
        "\n",
        "\n",
        "plt.plot(Train_Model.history['loss'],label='Training LOSS' )\n",
        "plt.plot(Train_Model.history['val_loss'],label='Validation LOSS' )\n",
        "plt.legend()\n",
        "plt.show()"
      ]
    },
    {
      "cell_type": "code",
      "execution_count": 28,
      "id": "638ec5a8",
      "metadata": {
        "colab": {
          "base_uri": "https://localhost:8080/",
          "height": 430
        },
        "id": "638ec5a8",
        "outputId": "7a457d0d-d20a-4909-e717-cca6894ae737"
      },
      "outputs": [
        {
          "output_type": "display_data",
          "data": {
            "text/plain": [
              "<Figure size 640x480 with 1 Axes>"
            ],
            "image/png": "[encoded data removed]"
          },
          "metadata": {}
        }
      ],
      "source": [
        "# Visualize actual vs predicted stock prices\n",
        "\n",
        "plt.plot(y_test.values, color='red', label='Actual Stock Price')\n",
        "plt.plot(y_pred, color='blue', label='Predicted Stock Price')\n",
        "plt.legend()\n",
        "plt.show()\n",
        ""
      ]
    },
    {
      "cell_type": "code",
      "execution_count": 28,
      "id": "afe61a32",
      "metadata": {
        "id": "afe61a32"
      },
      "outputs": [],
      "source": []
    },
    {
      "cell_type": "code",
      "execution_count": 28,
      "id": "c9d3237a",
      "metadata": {
        "id": "c9d3237a"
      },
      "outputs": [],
      "source": []
    },
    {
      "cell_type": "code",
      "execution_count": 28,
      "id": "72fccd08",
      "metadata": {
        "id": "72fccd08"
      },
      "outputs": [],
      "source": []
    }
  ],
  "metadata": {
    "kernelspec": {
      "display_name": "Python 3 (ipykernel)",
      "language": "python",
      "name": "python3"
    },
    "language_info": {
      "codemirror_mode": {
        "name": "ipython",
        "version": 3
      },
      "file_extension": ".py",
      "mimetype": "text/x-python",
      "name": "python",
      "nbconvert_exporter": "python",
      "pygments_lexer": "ipython3",
      "version": "3.9.13"
    },
    "colab": {
      "provenance": []
    }
  },
  "nbformat": 4,
  "nbformat_minor": 5
}